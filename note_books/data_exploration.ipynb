{
 "cells": [
  {
   "cell_type": "code",
   "execution_count": null,
   "id": "06a68ea2",
   "metadata": {},
   "outputs": [],
   "source": [
    "import os\n",
    "from pathlib import Path\n",
    "from collections import Counter\n",
    "import random\n",
    "from PIL import Image\n",
    "import matplotlib.pyplot as plt\n",
    "import numpy as np"
   ]
  },
  {
   "cell_type": "code",
   "execution_count": null,
   "id": "9ad53d0e",
   "metadata": {},
   "outputs": [],
   "source": [
    "data_dir = Path(r'D:\\workspace\\Self-learn\\Future Career\\Pytorch\\vietnamese-landmark-classifier\\data')\n",
    "train_dir = data_dir/'train'\n",
    "\n",
    "image_path_list = list(train_dir.glob(\"*/*.jpg\"))"
   ]
  },
  {
   "cell_type": "code",
   "execution_count": null,
   "id": "862fae58",
   "metadata": {},
   "outputs": [],
   "source": [
    "# Print a random image\n",
    "random.seed(42)\n",
    "random_image_path = random.choice(image_path_list)\n",
    "random_image = Image.open(random_image_path)\n",
    "print(random_image_path)\n",
    "random_image"
   ]
  },
  {
   "cell_type": "code",
   "execution_count": null,
   "id": "da147d80",
   "metadata": {},
   "outputs": [],
   "source": [
    "# Plot 4 random images\n",
    "random.seed(4) \n",
    "random_image_paths = random.sample(image_path_list, 4)\n",
    "\n",
    "fig, axes = plt.subplots(2,2,figsize = (10,10))\n",
    "\n",
    "for ax, image_path in zip(axes.flatten(), random_image_paths):\n",
    "    img = Image.open(image_path)\n",
    "    ax.imshow(img)\n",
    "    ax.axis('off')\n",
    "    ax.set_title(image_path.parent.name)\n",
    "\n",
    "plt.tight_layout()\n",
    "plt.show()"
   ]
  },
  {
   "cell_type": "code",
   "execution_count": null,
   "id": "bf49bcd5",
   "metadata": {},
   "outputs": [],
   "source": [
    "# Number of images per class\n",
    "\n",
    "class_counts = {p.name: len(list(p.glob(\"*.jpg\"))) for p in train_dir.iterdir() if p.is_dir()}\n",
    "\n",
    "plt.bar(class_counts.keys(), class_counts.values())\n",
    "plt.xticks(rotation = 45, ha='right')\n",
    "plt.title(\"Number of images per class\")\n",
    "plt.ylabel(\"Number of images\")\n",
    "plt.show()"
   ]
  },
  {
   "cell_type": "code",
   "execution_count": null,
   "id": "dfad2b1f",
   "metadata": {},
   "outputs": [],
   "source": [
    "# Size distribution\n",
    "\n",
    "sizes = []\n",
    "for image_path in list(train_dir.glob('*/*.jpg')):\n",
    "    with Image.open(image_path) as img:\n",
    "        sizes.append(img.size)\n",
    "\n",
    "size_counts = Counter(sizes)\n",
    "print(\"Top 5 most popular sizes:\\n{}\".format(size_counts.most_common(5)))"
   ]
  },
  {
   "cell_type": "code",
   "execution_count": null,
   "id": "01f37dce",
   "metadata": {},
   "outputs": [],
   "source": [
    "# Check for bad images\n",
    "bad_files = []\n",
    "for img_path in train_dir.glob(\"*/*\"):\n",
    "    try:\n",
    "        with Image.open(img_path) as img:\n",
    "            img.verify()  # chỉ verify\n",
    "    except Exception as e:\n",
    "        bad_files.append(img_path)\n",
    "print(\"Bad images:\", bad_files)"
   ]
  }
 ],
 "metadata": {
  "kernelspec": {
   "display_name": "Python 3",
   "language": "python",
   "name": "python3"
  },
  "language_info": {
   "codemirror_mode": {
    "name": "ipython",
    "version": 3
   },
   "file_extension": ".py",
   "mimetype": "text/x-python",
   "name": "python",
   "nbconvert_exporter": "python",
   "pygments_lexer": "ipython3",
   "version": "3.13.7"
  }
 },
 "nbformat": 4,
 "nbformat_minor": 5
}
