{
 "cells": [
  {
   "cell_type": "code",
   "execution_count": null,
   "id": "e50c4752",
   "metadata": {},
   "outputs": [],
   "source": [
    "import sys\n",
    "sys.path.append('..')"
   ]
  },
  {
   "cell_type": "code",
   "execution_count": null,
   "id": "5451c500",
   "metadata": {},
   "outputs": [],
   "source": [
    "from modular import data_setup, engine, models, utils, helper\n",
    "import torch\n",
    "from pathlib import Path"
   ]
  },
  {
   "cell_type": "code",
   "execution_count": null,
   "id": "9d3b193a",
   "metadata": {},
   "outputs": [],
   "source": [
    "# Model setup\n",
    "model, transforms = models.create_vit_model(5, 42)"
   ]
  },
  {
   "cell_type": "code",
   "execution_count": null,
   "id": "c0c5e377",
   "metadata": {},
   "outputs": [],
   "source": [
    "# Data setup\n",
    "\n",
    "train_dir = '../data/train'\n",
    "test_dir = '../data/test'\n",
    "\n",
    "train_dataloader, test_dataloader, class_names, targets = data_setup.create_dataloaders(train_dir, test_dir, transforms)"
   ]
  },
  {
   "cell_type": "code",
   "execution_count": null,
   "id": "c228834a",
   "metadata": {},
   "outputs": [],
   "source": [
    "# Setup loss function and optimizer\n",
    "LR = 0.001\n",
    "loss_fn = torch.nn.CrossEntropyLoss()\n",
    "optimizer = torch.optim.Adam(model.parameters(), lr=LR)"
   ]
  },
  {
   "cell_type": "code",
   "execution_count": null,
   "id": "591ff19c",
   "metadata": {},
   "outputs": [],
   "source": [
    "EPOCHS = 3\n",
    "results = engine.train(model, train_dataloader, test_dataloader, optimizer=optimizer, loss_fn=loss_fn, epochs=EPOCHS, device='cpu')"
   ]
  },
  {
   "cell_type": "code",
   "execution_count": null,
   "id": "0ab7b052",
   "metadata": {},
   "outputs": [],
   "source": [
    "helper.plot_results(results, EPOCHS)"
   ]
  },
  {
   "cell_type": "code",
   "execution_count": null,
   "id": "41a9a450",
   "metadata": {},
   "outputs": [],
   "source": [
    "fig, ax = helper.predict_and_plot_confusion_matrix(test_dataloader, model, class_names, targets)"
   ]
  },
  {
   "cell_type": "code",
   "execution_count": null,
   "id": "843d5f8a",
   "metadata": {},
   "outputs": [],
   "source": [
    "test_data_paths = list(Path(test_dir).glob(\"*/*.jpg\"))\n",
    "df = helper.predict_and_store(test_data_paths, model, transforms, class_names)\n",
    "df"
   ]
  },
  {
   "cell_type": "code",
   "execution_count": null,
   "id": "d0d0bc29",
   "metadata": {},
   "outputs": [],
   "source": [
    "print(\"Averagetime for prediction\", round(df['time_for_pred'].mean(),4))"
   ]
  },
  {
   "cell_type": "code",
   "execution_count": null,
   "id": "7dda2de8",
   "metadata": {},
   "outputs": [],
   "source": [
    "# Predict and plot with a random sample\n",
    "\n",
    "val_path = Path('../data/val')\n",
    "engine.predict_with_samples(val_path, model, transforms, class_names)"
   ]
  }
 ],
 "metadata": {
  "kernelspec": {
   "display_name": "Python 3",
   "language": "python",
   "name": "python3"
  },
  "language_info": {
   "codemirror_mode": {
    "name": "ipython",
    "version": 3
   },
   "file_extension": ".py",
   "mimetype": "text/x-python",
   "name": "python",
   "nbconvert_exporter": "python",
   "pygments_lexer": "ipython3",
   "version": "3.13.7"
  }
 },
 "nbformat": 4,
 "nbformat_minor": 5
}
