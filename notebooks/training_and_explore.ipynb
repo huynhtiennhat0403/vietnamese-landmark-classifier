{
 "cells": [
  {
   "cell_type": "code",
   "execution_count": null,
   "id": "e50c4752",
   "metadata": {},
   "outputs": [],
   "source": [
    "import sys\n",
    "sys.path.append('..')"
   ]
  },
  {
   "cell_type": "code",
   "execution_count": null,
   "id": "60b0a934",
   "metadata": {},
   "outputs": [],
   "source": [
    "import torch.multiprocessing as mp\n",
    "\n",
    "# Fix multiprocessing trên Windows\n",
    "if __name__ == '__main__':\n",
    "    mp.set_start_method('spawn', force=True)"
   ]
  },
  {
   "cell_type": "code",
   "execution_count": null,
   "id": "5451c500",
   "metadata": {},
   "outputs": [],
   "source": [
    "from modular import data_setup, engine, models, helper\n",
    "import torch"
   ]
  },
  {
   "cell_type": "code",
   "execution_count": null,
   "id": "9d3b193a",
   "metadata": {},
   "outputs": [],
   "source": [
    "# Model setup\n",
    "vitb16_model, transforms = models.create_vit_model(5, 42)\n",
    "vit_from_scratch_model = models.create_vit_tiny_cpu(5, 42)"
   ]
  },
  {
   "cell_type": "code",
   "execution_count": null,
   "id": "c0c5e377",
   "metadata": {},
   "outputs": [],
   "source": [
    "# Data setup\n",
    "\n",
    "train_dir = '../data/train'\n",
    "test_dir = '../data/test'\n",
    "\n",
    "train_dataloader, test_dataloader, class_names, targets = data_setup.create_dataloaders(train_dir, test_dir, transforms)"
   ]
  },
  {
   "cell_type": "code",
   "execution_count": null,
   "id": "c228834a",
   "metadata": {},
   "outputs": [],
   "source": [
    "# Setup loss function and optimizer\n",
    "EPOCHS = 3\n",
    "LR = 0.001\n",
    "loss_fn = torch.nn.CrossEntropyLoss()"
   ]
  },
  {
   "cell_type": "code",
   "execution_count": null,
   "id": "29bc42f7",
   "metadata": {},
   "outputs": [],
   "source": [
    "def train_and_evaluate(model, train_dataloader, test_dataloader, loss_fn, epochs, device='cpu', save_path = '../reports/vit_from_scratch_training_results.jpg'):\n",
    "    optimizer = torch.optim.Adam(model.parameters(), lr=LR) \n",
    "    results = engine.train(model=model,\n",
    "                           train_dataloader=train_dataloader,\n",
    "                           test_dataloader=test_dataloader,\n",
    "                           optimizer=optimizer,\n",
    "                           loss_fn=loss_fn,\n",
    "                           epochs=epochs,\n",
    "                           device=device)\n",
    "    \n",
    "    fig = helper.plot_results(results, epochs=epochs, save_path=save_path)\n",
    "\n",
    "    return results"
   ]
  },
  {
   "cell_type": "code",
   "execution_count": null,
   "id": "9dc39191",
   "metadata": {},
   "outputs": [],
   "source": [
    "my_vit_results = train_and_evaluate(vit_from_scratch_model, train_dataloader, test_dataloader, loss_fn, epochs=EPOCHS, device='cpu')"
   ]
  },
  {
   "cell_type": "code",
   "execution_count": null,
   "id": "24c29d31",
   "metadata": {},
   "outputs": [],
   "source": [
    "vit_b16_results = train_and_evaluate(vitb16_model, train_dataloader, test_dataloader, loss_fn, epochs=EPOCHS, device='cpu', save_path='../reports/vit_b16_training_results.jpg')"
   ]
  },
  {
   "cell_type": "code",
   "execution_count": null,
   "id": "41a9a450",
   "metadata": {},
   "outputs": [],
   "source": [
    "fig, ax, my_vit_pred = helper.predict_and_plot_confusion_matrix(test_dataloader, vit_from_scratch_model, class_names, targets, save_path='../reports/vit_from_scratch_confusion_matrix.jpg')"
   ]
  },
  {
   "cell_type": "code",
   "execution_count": null,
   "id": "e5ec8062",
   "metadata": {},
   "outputs": [],
   "source": [
    "fig, ax, vit_b16_pred = helper.predict_and_plot_confusion_matrix(test_dataloader, vitb16_model, class_names, targets, save_path='../reports/vit_b16_confusion_matrix.jpg')"
   ]
  }
 ],
 "metadata": {
  "kernelspec": {
   "display_name": "Python 3",
   "language": "python",
   "name": "python3"
  },
  "language_info": {
   "codemirror_mode": {
    "name": "ipython",
    "version": 3
   },
   "file_extension": ".py",
   "mimetype": "text/x-python",
   "name": "python",
   "nbconvert_exporter": "python",
   "pygments_lexer": "ipython3",
   "version": "3.13.7"
  }
 },
 "nbformat": 4,
 "nbformat_minor": 5
}
