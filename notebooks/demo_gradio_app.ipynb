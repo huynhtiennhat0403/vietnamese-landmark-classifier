{
 "cells": [
  {
   "cell_type": "code",
   "execution_count": null,
   "id": "7fcb0126",
   "metadata": {},
   "outputs": [],
   "source": [
    "\n",
    "from pathlib import Path\n",
    "import torch\n",
    "from typing import Dict, Tuple\n",
    "from timeit import default_timer as timer\n",
    "import gradio as gr"
   ]
  },
  {
   "cell_type": "code",
   "execution_count": null,
   "id": "15889bb7",
   "metadata": {},
   "outputs": [],
   "source": [
    "import sys\n",
    "sys.path.append('..')\n",
    "from modular import data_setup, engine, models, utils, helper"
   ]
  },
  {
   "cell_type": "code",
   "execution_count": null,
   "id": "aee798db",
   "metadata": {},
   "outputs": [],
   "source": [
    "model, transforms = models.create_vit_model(5)"
   ]
  },
  {
   "cell_type": "code",
   "execution_count": null,
   "id": "8da9bba6",
   "metadata": {},
   "outputs": [],
   "source": [
    "state_dict = torch.load('../models/vietnamese_landmark_vit.pth', map_location='cpu')\n",
    "model.load_state_dict(state_dict=state_dict)"
   ]
  },
  {
   "cell_type": "code",
   "execution_count": null,
   "id": "cebd01a9",
   "metadata": {},
   "outputs": [],
   "source": [
    "class_names = ['Ha Long Bay', 'Ho Chi Minh Mausoleum', 'Hoi An Town', 'Hue Imperial city', 'Sapa Rice Terrace']"
   ]
  },
  {
   "cell_type": "code",
   "execution_count": null,
   "id": "5fe14875",
   "metadata": {},
   "outputs": [],
   "source": [
    "# Function for gradio demo\n",
    "\n",
    "def predict(img) -> Tuple[Dict, float]:\n",
    "    \"\"\"Transforms and performs a prediction on img and returns prediction and time taken.\n",
    "    \"\"\"\n",
    "    # Start the timer\n",
    "    start_time = timer()\n",
    "    \n",
    "    # Transform the target image and add a batch dimension\n",
    "    img = transforms(img).unsqueeze(0)\n",
    "    \n",
    "    # Put model into evaluation mode and turn on inference mode\n",
    "    model.eval()\n",
    "    with torch.inference_mode():\n",
    "        # Pass the transformed image through the model and turn the prediction logits into prediction probabilities\n",
    "        pred_probs = torch.softmax(model(img), dim=1)\n",
    "    \n",
    "    # Create a prediction label and prediction probability dictionary for each prediction class (this is the required format for Gradio's output parameter)\n",
    "    pred_labels_and_probs = {class_names[i]: float(pred_probs[0][i]) for i in range(len(class_names))}\n",
    "    \n",
    "    # Calculate the prediction time\n",
    "    pred_time = round(timer() - start_time, 5)\n",
    "    \n",
    "    # Return the prediction dictionary and prediction time \n",
    "    return pred_labels_and_probs, pred_time"
   ]
  },
  {
   "cell_type": "code",
   "execution_count": null,
   "id": "3d0aa705",
   "metadata": {},
   "outputs": [],
   "source": [
    "# Create a list of examples for demo\n",
    "\n",
    "data_path = Path('../data/val')\n",
    "example_list = list(data_path.glob(\"*.jpg\"))"
   ]
  },
  {
   "cell_type": "code",
   "execution_count": null,
   "id": "e85ef2d3",
   "metadata": {},
   "outputs": [],
   "source": [
    "# Build a gradio interface\n",
    "\n",
    "title = 'Vietnamese Landmark'\n",
    "description = \"A viT model to classify Vietnamese landmarks\"\n",
    "\n",
    "demo = gr.Interface(\n",
    "    fn=predict,\n",
    "    inputs=gr.Image(type='pil'),\n",
    "    outputs=[gr.Label(num_top_classes=5, label=\"Predictions\"),\n",
    "             gr.Number(label='Prediction time (s)')],\n",
    "    examples=example_list,\n",
    "    title=title,\n",
    "    description=description\n",
    ")\n",
    "\n",
    "demo.launch(debug=False,\n",
    "            share=True )"
   ]
  }
 ],
 "metadata": {
  "kernelspec": {
   "display_name": "Python 3",
   "language": "python",
   "name": "python3"
  },
  "language_info": {
   "codemirror_mode": {
    "name": "ipython",
    "version": 3
   },
   "file_extension": ".py",
   "mimetype": "text/x-python",
   "name": "python",
   "nbconvert_exporter": "python",
   "pygments_lexer": "ipython3",
   "version": "3.13.7"
  }
 },
 "nbformat": 4,
 "nbformat_minor": 5
}
